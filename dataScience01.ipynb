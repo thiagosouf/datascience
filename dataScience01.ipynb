{
  "nbformat": 4,
  "nbformat_minor": 0,
  "metadata": {
    "colab": {
      "name": "dataScience01.ipynb",
      "provenance": [],
      "collapsed_sections": [],
      "authorship_tag": "ABX9TyPX3okHY/+BvAhPBOkTWPW2",
      "include_colab_link": true
    },
    "kernelspec": {
      "name": "python3",
      "display_name": "Python 3"
    }
  },
  "cells": [
    {
      "cell_type": "markdown",
      "metadata": {
        "id": "view-in-github",
        "colab_type": "text"
      },
      "source": [
        "<a href=\"https://colab.research.google.com/github/thiagosouf/datascience/blob/master/dataScience01.ipynb\" target=\"_parent\"><img src=\"https://colab.research.google.com/assets/colab-badge.svg\" alt=\"Open In Colab\"/></a>"
      ]
    },
    {
      "cell_type": "code",
      "metadata": {
        "id": "1HBiWNfD_sUE"
      },
      "source": [
        "import numpy as np\n",
        "import pandas as pd"
      ],
      "execution_count": null,
      "outputs": []
    },
    {
      "cell_type": "code",
      "metadata": {
        "id": "N5AzN6NAAJrG"
      },
      "source": [
        "#inserindo dados artificiais\n",
        "data = {\"Birth\": [\"\",\"10/02/2000\",\"10/02/2000\",\"10/02/1988\",\"10/02/1990\",\"10/02/1995\",\"10/02/1995\",\"10/02/2002\",\"10/02/1970\"],\n",
        "        \"Age\": [1000,20,20,32,30,25,35,18,50],\n",
        "        \"Sex\":[\"\",\"m\",\"M\",\"Male\",\"m\",\"f\",\"F\",np.nan,\"F\"],\n",
        "        \"Job\": [\"\",\"Arts & Design\",\"Arts & Design\",\"Business\",\"busines\",\"Healthcare\",\"Healthcare\",\"Food\",\"@#4\"],\n",
        "        \"Income\": [\"<50k\",\"<50k\",\"<50k\",\">50k\",\">50k\",\">50k\",\"<50k\",\"<50k\",\">50k\"]}"
      ],
      "execution_count": null,
      "outputs": []
    },
    {
      "cell_type": "code",
      "metadata": {
        "id": "3L5_KHSDAPyf"
      },
      "source": [
        "#convertendo dicionario para DataFrame\n",
        "df = pd.DataFrame(data)"
      ],
      "execution_count": null,
      "outputs": []
    },
    {
      "cell_type": "code",
      "metadata": {
        "id": "zI7bAkFwE7aU",
        "outputId": "e053acf4-eeab-4b57-eac8-17b12c8c5407",
        "colab": {
          "base_uri": "https://localhost:8080/",
          "height": 328
        }
      },
      "source": [
        "#visualizando o dataframe\n",
        "df"
      ],
      "execution_count": null,
      "outputs": [
        {
          "output_type": "execute_result",
          "data": {
            "text/html": [
              "<div>\n",
              "<style scoped>\n",
              "    .dataframe tbody tr th:only-of-type {\n",
              "        vertical-align: middle;\n",
              "    }\n",
              "\n",
              "    .dataframe tbody tr th {\n",
              "        vertical-align: top;\n",
              "    }\n",
              "\n",
              "    .dataframe thead th {\n",
              "        text-align: right;\n",
              "    }\n",
              "</style>\n",
              "<table border=\"1\" class=\"dataframe\">\n",
              "  <thead>\n",
              "    <tr style=\"text-align: right;\">\n",
              "      <th></th>\n",
              "      <th>Birth</th>\n",
              "      <th>Age</th>\n",
              "      <th>Sex</th>\n",
              "      <th>Job</th>\n",
              "      <th>Income</th>\n",
              "    </tr>\n",
              "  </thead>\n",
              "  <tbody>\n",
              "    <tr>\n",
              "      <th>0</th>\n",
              "      <td></td>\n",
              "      <td>1000</td>\n",
              "      <td></td>\n",
              "      <td></td>\n",
              "      <td>&lt;50k</td>\n",
              "    </tr>\n",
              "    <tr>\n",
              "      <th>1</th>\n",
              "      <td>10/02/2000</td>\n",
              "      <td>20</td>\n",
              "      <td>m</td>\n",
              "      <td>Arts &amp; Design</td>\n",
              "      <td>&lt;50k</td>\n",
              "    </tr>\n",
              "    <tr>\n",
              "      <th>2</th>\n",
              "      <td>10/02/2000</td>\n",
              "      <td>20</td>\n",
              "      <td>M</td>\n",
              "      <td>Arts &amp; Design</td>\n",
              "      <td>&lt;50k</td>\n",
              "    </tr>\n",
              "    <tr>\n",
              "      <th>3</th>\n",
              "      <td>10/02/1988</td>\n",
              "      <td>32</td>\n",
              "      <td>Male</td>\n",
              "      <td>Business</td>\n",
              "      <td>&gt;50k</td>\n",
              "    </tr>\n",
              "    <tr>\n",
              "      <th>4</th>\n",
              "      <td>10/02/1990</td>\n",
              "      <td>30</td>\n",
              "      <td>m</td>\n",
              "      <td>busines</td>\n",
              "      <td>&gt;50k</td>\n",
              "    </tr>\n",
              "    <tr>\n",
              "      <th>5</th>\n",
              "      <td>10/02/1995</td>\n",
              "      <td>25</td>\n",
              "      <td>f</td>\n",
              "      <td>Healthcare</td>\n",
              "      <td>&gt;50k</td>\n",
              "    </tr>\n",
              "    <tr>\n",
              "      <th>6</th>\n",
              "      <td>10/02/1995</td>\n",
              "      <td>35</td>\n",
              "      <td>F</td>\n",
              "      <td>Healthcare</td>\n",
              "      <td>&lt;50k</td>\n",
              "    </tr>\n",
              "    <tr>\n",
              "      <th>7</th>\n",
              "      <td>10/02/2002</td>\n",
              "      <td>18</td>\n",
              "      <td>NaN</td>\n",
              "      <td>Food</td>\n",
              "      <td>&lt;50k</td>\n",
              "    </tr>\n",
              "    <tr>\n",
              "      <th>8</th>\n",
              "      <td>10/02/1970</td>\n",
              "      <td>50</td>\n",
              "      <td>F</td>\n",
              "      <td>@#4</td>\n",
              "      <td>&gt;50k</td>\n",
              "    </tr>\n",
              "  </tbody>\n",
              "</table>\n",
              "</div>"
            ],
            "text/plain": [
              "        Birth   Age   Sex            Job Income\n",
              "0              1000                        <50k\n",
              "1  10/02/2000    20     m  Arts & Design   <50k\n",
              "2  10/02/2000    20     M  Arts & Design   <50k\n",
              "3  10/02/1988    32  Male       Business   >50k\n",
              "4  10/02/1990    30     m        busines   >50k\n",
              "5  10/02/1995    25     f     Healthcare   >50k\n",
              "6  10/02/1995    35     F     Healthcare   <50k\n",
              "7  10/02/2002    18   NaN           Food   <50k\n",
              "8  10/02/1970    50     F            @#4   >50k"
            ]
          },
          "metadata": {
            "tags": []
          },
          "execution_count": 4
        }
      ]
    },
    {
      "cell_type": "code",
      "metadata": {
        "id": "V28mFCDRFS35"
      },
      "source": [
        "#dropando coluna\n",
        "df.drop([\"Birth\"],axis=1,inplace=True) # apagando a coluna \"Birth\" no eixo=1 (por coluna). inplace significa para apagar do dataset corrente e não gerar uma cópia."
      ],
      "execution_count": null,
      "outputs": []
    },
    {
      "cell_type": "code",
      "metadata": {
        "id": "yQ1lYlV66t8T",
        "outputId": "8c4c9b60-d87e-48d3-804b-0406ff855a91",
        "colab": {
          "base_uri": "https://localhost:8080/",
          "height": 328
        }
      },
      "source": [
        "\n",
        "df"
      ],
      "execution_count": null,
      "outputs": [
        {
          "output_type": "execute_result",
          "data": {
            "text/html": [
              "<div>\n",
              "<style scoped>\n",
              "    .dataframe tbody tr th:only-of-type {\n",
              "        vertical-align: middle;\n",
              "    }\n",
              "\n",
              "    .dataframe tbody tr th {\n",
              "        vertical-align: top;\n",
              "    }\n",
              "\n",
              "    .dataframe thead th {\n",
              "        text-align: right;\n",
              "    }\n",
              "</style>\n",
              "<table border=\"1\" class=\"dataframe\">\n",
              "  <thead>\n",
              "    <tr style=\"text-align: right;\">\n",
              "      <th></th>\n",
              "      <th>Age</th>\n",
              "      <th>Sex</th>\n",
              "      <th>Job</th>\n",
              "      <th>Income</th>\n",
              "    </tr>\n",
              "  </thead>\n",
              "  <tbody>\n",
              "    <tr>\n",
              "      <th>0</th>\n",
              "      <td>1000</td>\n",
              "      <td></td>\n",
              "      <td></td>\n",
              "      <td>&lt;50k</td>\n",
              "    </tr>\n",
              "    <tr>\n",
              "      <th>1</th>\n",
              "      <td>20</td>\n",
              "      <td>m</td>\n",
              "      <td>Arts &amp; Design</td>\n",
              "      <td>&lt;50k</td>\n",
              "    </tr>\n",
              "    <tr>\n",
              "      <th>2</th>\n",
              "      <td>20</td>\n",
              "      <td>M</td>\n",
              "      <td>Arts &amp; Design</td>\n",
              "      <td>&lt;50k</td>\n",
              "    </tr>\n",
              "    <tr>\n",
              "      <th>3</th>\n",
              "      <td>32</td>\n",
              "      <td>Male</td>\n",
              "      <td>Business</td>\n",
              "      <td>&gt;50k</td>\n",
              "    </tr>\n",
              "    <tr>\n",
              "      <th>4</th>\n",
              "      <td>30</td>\n",
              "      <td>m</td>\n",
              "      <td>busines</td>\n",
              "      <td>&gt;50k</td>\n",
              "    </tr>\n",
              "    <tr>\n",
              "      <th>5</th>\n",
              "      <td>25</td>\n",
              "      <td>f</td>\n",
              "      <td>Healthcare</td>\n",
              "      <td>&gt;50k</td>\n",
              "    </tr>\n",
              "    <tr>\n",
              "      <th>6</th>\n",
              "      <td>35</td>\n",
              "      <td>F</td>\n",
              "      <td>Healthcare</td>\n",
              "      <td>&lt;50k</td>\n",
              "    </tr>\n",
              "    <tr>\n",
              "      <th>7</th>\n",
              "      <td>18</td>\n",
              "      <td>NaN</td>\n",
              "      <td>Food</td>\n",
              "      <td>&lt;50k</td>\n",
              "    </tr>\n",
              "    <tr>\n",
              "      <th>8</th>\n",
              "      <td>50</td>\n",
              "      <td>F</td>\n",
              "      <td>@#4</td>\n",
              "      <td>&gt;50k</td>\n",
              "    </tr>\n",
              "  </tbody>\n",
              "</table>\n",
              "</div>"
            ],
            "text/plain": [
              "    Age   Sex            Job Income\n",
              "0  1000                        <50k\n",
              "1    20     m  Arts & Design   <50k\n",
              "2    20     M  Arts & Design   <50k\n",
              "3    32  Male       Business   >50k\n",
              "4    30     m        busines   >50k\n",
              "5    25     f     Healthcare   >50k\n",
              "6    35     F     Healthcare   <50k\n",
              "7    18   NaN           Food   <50k\n",
              "8    50     F            @#4   >50k"
            ]
          },
          "metadata": {
            "tags": []
          },
          "execution_count": 6
        }
      ]
    },
    {
      "cell_type": "code",
      "metadata": {
        "id": "BEzGMqW775fv",
        "outputId": "2a8c6adb-e5ad-46b9-f4d0-b09f06e89869",
        "colab": {
          "base_uri": "https://localhost:8080/",
          "height": 34
        }
      },
      "source": [
        "#Descobrindo inconsistencias\n",
        "df.Sex.unique() #valores unicos da coluna Sex"
      ],
      "execution_count": null,
      "outputs": [
        {
          "output_type": "execute_result",
          "data": {
            "text/plain": [
              "array(['', 'm', 'M', 'Male', 'f', 'F', nan], dtype=object)"
            ]
          },
          "metadata": {
            "tags": []
          },
          "execution_count": 7
        }
      ]
    },
    {
      "cell_type": "code",
      "metadata": {
        "id": "5SUVjIx-79Yj"
      },
      "source": [
        "#substituindo valores inconsistentes\n",
        "df.Sex.replace('m','M',inplace=True)\n",
        "df.Sex.replace('Male','M',inplace=True)\n",
        "df.Sex.replace('f','F',inplace=True)"
      ],
      "execution_count": null,
      "outputs": []
    },
    {
      "cell_type": "code",
      "metadata": {
        "id": "M-AfvOn385S9",
        "outputId": "f10ee96d-91b7-4113-e90c-7be1ae384724",
        "colab": {
          "base_uri": "https://localhost:8080/",
          "height": 328
        }
      },
      "source": [
        "df"
      ],
      "execution_count": null,
      "outputs": [
        {
          "output_type": "execute_result",
          "data": {
            "text/html": [
              "<div>\n",
              "<style scoped>\n",
              "    .dataframe tbody tr th:only-of-type {\n",
              "        vertical-align: middle;\n",
              "    }\n",
              "\n",
              "    .dataframe tbody tr th {\n",
              "        vertical-align: top;\n",
              "    }\n",
              "\n",
              "    .dataframe thead th {\n",
              "        text-align: right;\n",
              "    }\n",
              "</style>\n",
              "<table border=\"1\" class=\"dataframe\">\n",
              "  <thead>\n",
              "    <tr style=\"text-align: right;\">\n",
              "      <th></th>\n",
              "      <th>Age</th>\n",
              "      <th>Sex</th>\n",
              "      <th>Job</th>\n",
              "      <th>Income</th>\n",
              "    </tr>\n",
              "  </thead>\n",
              "  <tbody>\n",
              "    <tr>\n",
              "      <th>0</th>\n",
              "      <td>1000</td>\n",
              "      <td></td>\n",
              "      <td></td>\n",
              "      <td>&lt;50k</td>\n",
              "    </tr>\n",
              "    <tr>\n",
              "      <th>1</th>\n",
              "      <td>20</td>\n",
              "      <td>M</td>\n",
              "      <td>Arts &amp; Design</td>\n",
              "      <td>&lt;50k</td>\n",
              "    </tr>\n",
              "    <tr>\n",
              "      <th>2</th>\n",
              "      <td>20</td>\n",
              "      <td>M</td>\n",
              "      <td>Arts &amp; Design</td>\n",
              "      <td>&lt;50k</td>\n",
              "    </tr>\n",
              "    <tr>\n",
              "      <th>3</th>\n",
              "      <td>32</td>\n",
              "      <td>M</td>\n",
              "      <td>Business</td>\n",
              "      <td>&gt;50k</td>\n",
              "    </tr>\n",
              "    <tr>\n",
              "      <th>4</th>\n",
              "      <td>30</td>\n",
              "      <td>M</td>\n",
              "      <td>busines</td>\n",
              "      <td>&gt;50k</td>\n",
              "    </tr>\n",
              "    <tr>\n",
              "      <th>5</th>\n",
              "      <td>25</td>\n",
              "      <td>F</td>\n",
              "      <td>Healthcare</td>\n",
              "      <td>&gt;50k</td>\n",
              "    </tr>\n",
              "    <tr>\n",
              "      <th>6</th>\n",
              "      <td>35</td>\n",
              "      <td>F</td>\n",
              "      <td>Healthcare</td>\n",
              "      <td>&lt;50k</td>\n",
              "    </tr>\n",
              "    <tr>\n",
              "      <th>7</th>\n",
              "      <td>18</td>\n",
              "      <td>NaN</td>\n",
              "      <td>Food</td>\n",
              "      <td>&lt;50k</td>\n",
              "    </tr>\n",
              "    <tr>\n",
              "      <th>8</th>\n",
              "      <td>50</td>\n",
              "      <td>F</td>\n",
              "      <td>@#4</td>\n",
              "      <td>&gt;50k</td>\n",
              "    </tr>\n",
              "  </tbody>\n",
              "</table>\n",
              "</div>"
            ],
            "text/plain": [
              "    Age  Sex            Job Income\n",
              "0  1000                       <50k\n",
              "1    20    M  Arts & Design   <50k\n",
              "2    20    M  Arts & Design   <50k\n",
              "3    32    M       Business   >50k\n",
              "4    30    M        busines   >50k\n",
              "5    25    F     Healthcare   >50k\n",
              "6    35    F     Healthcare   <50k\n",
              "7    18  NaN           Food   <50k\n",
              "8    50    F            @#4   >50k"
            ]
          },
          "metadata": {
            "tags": []
          },
          "execution_count": 9
        }
      ]
    },
    {
      "cell_type": "code",
      "metadata": {
        "id": "D8ZSKf1J9MKO",
        "outputId": "f38d247b-7b5c-4132-e453-666b912f0938",
        "colab": {
          "base_uri": "https://localhost:8080/",
          "height": 51
        }
      },
      "source": [
        "#buscar os valores unicos da coluna Job\n",
        "df.Job.unique()"
      ],
      "execution_count": null,
      "outputs": [
        {
          "output_type": "execute_result",
          "data": {
            "text/plain": [
              "array(['', 'Arts & Design', 'Business', 'busines', 'Healthcare', 'Food',\n",
              "       '@#4'], dtype=object)"
            ]
          },
          "metadata": {
            "tags": []
          },
          "execution_count": 10
        }
      ]
    },
    {
      "cell_type": "code",
      "metadata": {
        "id": "IhP8p1Y19TgY"
      },
      "source": [
        "#subistitui na coluna Job(valor antigo,valor novo)\n",
        "df.Job.replace('busines','Business',inplace=True)"
      ],
      "execution_count": null,
      "outputs": []
    },
    {
      "cell_type": "code",
      "metadata": {
        "id": "TMWe8ZDl9jhk",
        "outputId": "f752861f-89c0-400c-fb2f-97c0114c7a49",
        "colab": {
          "base_uri": "https://localhost:8080/",
          "height": 328
        }
      },
      "source": [
        "df"
      ],
      "execution_count": null,
      "outputs": [
        {
          "output_type": "execute_result",
          "data": {
            "text/html": [
              "<div>\n",
              "<style scoped>\n",
              "    .dataframe tbody tr th:only-of-type {\n",
              "        vertical-align: middle;\n",
              "    }\n",
              "\n",
              "    .dataframe tbody tr th {\n",
              "        vertical-align: top;\n",
              "    }\n",
              "\n",
              "    .dataframe thead th {\n",
              "        text-align: right;\n",
              "    }\n",
              "</style>\n",
              "<table border=\"1\" class=\"dataframe\">\n",
              "  <thead>\n",
              "    <tr style=\"text-align: right;\">\n",
              "      <th></th>\n",
              "      <th>Age</th>\n",
              "      <th>Sex</th>\n",
              "      <th>Job</th>\n",
              "      <th>Income</th>\n",
              "    </tr>\n",
              "  </thead>\n",
              "  <tbody>\n",
              "    <tr>\n",
              "      <th>0</th>\n",
              "      <td>1000</td>\n",
              "      <td></td>\n",
              "      <td></td>\n",
              "      <td>&lt;50k</td>\n",
              "    </tr>\n",
              "    <tr>\n",
              "      <th>1</th>\n",
              "      <td>20</td>\n",
              "      <td>M</td>\n",
              "      <td>Arts &amp; Design</td>\n",
              "      <td>&lt;50k</td>\n",
              "    </tr>\n",
              "    <tr>\n",
              "      <th>2</th>\n",
              "      <td>20</td>\n",
              "      <td>M</td>\n",
              "      <td>Arts &amp; Design</td>\n",
              "      <td>&lt;50k</td>\n",
              "    </tr>\n",
              "    <tr>\n",
              "      <th>3</th>\n",
              "      <td>32</td>\n",
              "      <td>M</td>\n",
              "      <td>Business</td>\n",
              "      <td>&gt;50k</td>\n",
              "    </tr>\n",
              "    <tr>\n",
              "      <th>4</th>\n",
              "      <td>30</td>\n",
              "      <td>M</td>\n",
              "      <td>Business</td>\n",
              "      <td>&gt;50k</td>\n",
              "    </tr>\n",
              "    <tr>\n",
              "      <th>5</th>\n",
              "      <td>25</td>\n",
              "      <td>F</td>\n",
              "      <td>Healthcare</td>\n",
              "      <td>&gt;50k</td>\n",
              "    </tr>\n",
              "    <tr>\n",
              "      <th>6</th>\n",
              "      <td>35</td>\n",
              "      <td>F</td>\n",
              "      <td>Healthcare</td>\n",
              "      <td>&lt;50k</td>\n",
              "    </tr>\n",
              "    <tr>\n",
              "      <th>7</th>\n",
              "      <td>18</td>\n",
              "      <td>NaN</td>\n",
              "      <td>Food</td>\n",
              "      <td>&lt;50k</td>\n",
              "    </tr>\n",
              "    <tr>\n",
              "      <th>8</th>\n",
              "      <td>50</td>\n",
              "      <td>F</td>\n",
              "      <td>@#4</td>\n",
              "      <td>&gt;50k</td>\n",
              "    </tr>\n",
              "  </tbody>\n",
              "</table>\n",
              "</div>"
            ],
            "text/plain": [
              "    Age  Sex            Job Income\n",
              "0  1000                       <50k\n",
              "1    20    M  Arts & Design   <50k\n",
              "2    20    M  Arts & Design   <50k\n",
              "3    32    M       Business   >50k\n",
              "4    30    M       Business   >50k\n",
              "5    25    F     Healthcare   >50k\n",
              "6    35    F     Healthcare   <50k\n",
              "7    18  NaN           Food   <50k\n",
              "8    50    F            @#4   >50k"
            ]
          },
          "metadata": {
            "tags": []
          },
          "execution_count": 12
        }
      ]
    },
    {
      "cell_type": "code",
      "metadata": {
        "id": "LiCggGVI9lcC"
      },
      "source": [
        "#dropa linha 0\n",
        "df.drop(0,inplace=True)"
      ],
      "execution_count": null,
      "outputs": []
    },
    {
      "cell_type": "code",
      "metadata": {
        "id": "icq1fLS9-Fgk",
        "outputId": "069a28e2-475d-4d13-e002-addb81376c03",
        "colab": {
          "base_uri": "https://localhost:8080/",
          "height": 297
        }
      },
      "source": [
        "df"
      ],
      "execution_count": null,
      "outputs": [
        {
          "output_type": "execute_result",
          "data": {
            "text/html": [
              "<div>\n",
              "<style scoped>\n",
              "    .dataframe tbody tr th:only-of-type {\n",
              "        vertical-align: middle;\n",
              "    }\n",
              "\n",
              "    .dataframe tbody tr th {\n",
              "        vertical-align: top;\n",
              "    }\n",
              "\n",
              "    .dataframe thead th {\n",
              "        text-align: right;\n",
              "    }\n",
              "</style>\n",
              "<table border=\"1\" class=\"dataframe\">\n",
              "  <thead>\n",
              "    <tr style=\"text-align: right;\">\n",
              "      <th></th>\n",
              "      <th>Age</th>\n",
              "      <th>Sex</th>\n",
              "      <th>Job</th>\n",
              "      <th>Income</th>\n",
              "    </tr>\n",
              "  </thead>\n",
              "  <tbody>\n",
              "    <tr>\n",
              "      <th>1</th>\n",
              "      <td>20</td>\n",
              "      <td>M</td>\n",
              "      <td>Arts &amp; Design</td>\n",
              "      <td>&lt;50k</td>\n",
              "    </tr>\n",
              "    <tr>\n",
              "      <th>2</th>\n",
              "      <td>20</td>\n",
              "      <td>M</td>\n",
              "      <td>Arts &amp; Design</td>\n",
              "      <td>&lt;50k</td>\n",
              "    </tr>\n",
              "    <tr>\n",
              "      <th>3</th>\n",
              "      <td>32</td>\n",
              "      <td>M</td>\n",
              "      <td>Business</td>\n",
              "      <td>&gt;50k</td>\n",
              "    </tr>\n",
              "    <tr>\n",
              "      <th>4</th>\n",
              "      <td>30</td>\n",
              "      <td>M</td>\n",
              "      <td>Business</td>\n",
              "      <td>&gt;50k</td>\n",
              "    </tr>\n",
              "    <tr>\n",
              "      <th>5</th>\n",
              "      <td>25</td>\n",
              "      <td>F</td>\n",
              "      <td>Healthcare</td>\n",
              "      <td>&gt;50k</td>\n",
              "    </tr>\n",
              "    <tr>\n",
              "      <th>6</th>\n",
              "      <td>35</td>\n",
              "      <td>F</td>\n",
              "      <td>Healthcare</td>\n",
              "      <td>&lt;50k</td>\n",
              "    </tr>\n",
              "    <tr>\n",
              "      <th>7</th>\n",
              "      <td>18</td>\n",
              "      <td>NaN</td>\n",
              "      <td>Food</td>\n",
              "      <td>&lt;50k</td>\n",
              "    </tr>\n",
              "    <tr>\n",
              "      <th>8</th>\n",
              "      <td>50</td>\n",
              "      <td>F</td>\n",
              "      <td>@#4</td>\n",
              "      <td>&gt;50k</td>\n",
              "    </tr>\n",
              "  </tbody>\n",
              "</table>\n",
              "</div>"
            ],
            "text/plain": [
              "   Age  Sex            Job Income\n",
              "1   20    M  Arts & Design   <50k\n",
              "2   20    M  Arts & Design   <50k\n",
              "3   32    M       Business   >50k\n",
              "4   30    M       Business   >50k\n",
              "5   25    F     Healthcare   >50k\n",
              "6   35    F     Healthcare   <50k\n",
              "7   18  NaN           Food   <50k\n",
              "8   50    F            @#4   >50k"
            ]
          },
          "metadata": {
            "tags": []
          },
          "execution_count": 14
        }
      ]
    },
    {
      "cell_type": "code",
      "metadata": {
        "id": "QF5vaGjU-HLQ"
      },
      "source": [
        "df.Job.replace('@#4',np.nan,inplace=True)"
      ],
      "execution_count": null,
      "outputs": []
    },
    {
      "cell_type": "code",
      "metadata": {
        "id": "WxmaNtNg-1FB",
        "outputId": "cf70c088-6fbe-4fbe-b106-b2301fbbf2d4",
        "colab": {
          "base_uri": "https://localhost:8080/",
          "height": 297
        }
      },
      "source": [
        "df"
      ],
      "execution_count": null,
      "outputs": [
        {
          "output_type": "execute_result",
          "data": {
            "text/html": [
              "<div>\n",
              "<style scoped>\n",
              "    .dataframe tbody tr th:only-of-type {\n",
              "        vertical-align: middle;\n",
              "    }\n",
              "\n",
              "    .dataframe tbody tr th {\n",
              "        vertical-align: top;\n",
              "    }\n",
              "\n",
              "    .dataframe thead th {\n",
              "        text-align: right;\n",
              "    }\n",
              "</style>\n",
              "<table border=\"1\" class=\"dataframe\">\n",
              "  <thead>\n",
              "    <tr style=\"text-align: right;\">\n",
              "      <th></th>\n",
              "      <th>Age</th>\n",
              "      <th>Sex</th>\n",
              "      <th>Job</th>\n",
              "      <th>Income</th>\n",
              "    </tr>\n",
              "  </thead>\n",
              "  <tbody>\n",
              "    <tr>\n",
              "      <th>1</th>\n",
              "      <td>20</td>\n",
              "      <td>M</td>\n",
              "      <td>Arts &amp; Design</td>\n",
              "      <td>&lt;50k</td>\n",
              "    </tr>\n",
              "    <tr>\n",
              "      <th>2</th>\n",
              "      <td>20</td>\n",
              "      <td>M</td>\n",
              "      <td>Arts &amp; Design</td>\n",
              "      <td>&lt;50k</td>\n",
              "    </tr>\n",
              "    <tr>\n",
              "      <th>3</th>\n",
              "      <td>32</td>\n",
              "      <td>M</td>\n",
              "      <td>Business</td>\n",
              "      <td>&gt;50k</td>\n",
              "    </tr>\n",
              "    <tr>\n",
              "      <th>4</th>\n",
              "      <td>30</td>\n",
              "      <td>M</td>\n",
              "      <td>Business</td>\n",
              "      <td>&gt;50k</td>\n",
              "    </tr>\n",
              "    <tr>\n",
              "      <th>5</th>\n",
              "      <td>25</td>\n",
              "      <td>F</td>\n",
              "      <td>Healthcare</td>\n",
              "      <td>&gt;50k</td>\n",
              "    </tr>\n",
              "    <tr>\n",
              "      <th>6</th>\n",
              "      <td>35</td>\n",
              "      <td>F</td>\n",
              "      <td>Healthcare</td>\n",
              "      <td>&lt;50k</td>\n",
              "    </tr>\n",
              "    <tr>\n",
              "      <th>7</th>\n",
              "      <td>18</td>\n",
              "      <td>NaN</td>\n",
              "      <td>Food</td>\n",
              "      <td>&lt;50k</td>\n",
              "    </tr>\n",
              "    <tr>\n",
              "      <th>8</th>\n",
              "      <td>50</td>\n",
              "      <td>F</td>\n",
              "      <td>NaN</td>\n",
              "      <td>&gt;50k</td>\n",
              "    </tr>\n",
              "  </tbody>\n",
              "</table>\n",
              "</div>"
            ],
            "text/plain": [
              "   Age  Sex            Job Income\n",
              "1   20    M  Arts & Design   <50k\n",
              "2   20    M  Arts & Design   <50k\n",
              "3   32    M       Business   >50k\n",
              "4   30    M       Business   >50k\n",
              "5   25    F     Healthcare   >50k\n",
              "6   35    F     Healthcare   <50k\n",
              "7   18  NaN           Food   <50k\n",
              "8   50    F            NaN   >50k"
            ]
          },
          "metadata": {
            "tags": []
          },
          "execution_count": 16
        }
      ]
    },
    {
      "cell_type": "code",
      "metadata": {
        "id": "69G7gf6w-2m8",
        "outputId": "e1554a0d-7ec2-404f-c4e3-3c43fcc3a7f7",
        "colab": {
          "base_uri": "https://localhost:8080/",
          "height": 111
        }
      },
      "source": [
        "#Verificando se existe duplicatas na tabela\n",
        "df[df.duplicated(keep=False)] #o que esta dentro retorna um booleano dos indices duplicados, colocando um df fora ele imprime a tabela"
      ],
      "execution_count": null,
      "outputs": [
        {
          "output_type": "execute_result",
          "data": {
            "text/html": [
              "<div>\n",
              "<style scoped>\n",
              "    .dataframe tbody tr th:only-of-type {\n",
              "        vertical-align: middle;\n",
              "    }\n",
              "\n",
              "    .dataframe tbody tr th {\n",
              "        vertical-align: top;\n",
              "    }\n",
              "\n",
              "    .dataframe thead th {\n",
              "        text-align: right;\n",
              "    }\n",
              "</style>\n",
              "<table border=\"1\" class=\"dataframe\">\n",
              "  <thead>\n",
              "    <tr style=\"text-align: right;\">\n",
              "      <th></th>\n",
              "      <th>Age</th>\n",
              "      <th>Sex</th>\n",
              "      <th>Job</th>\n",
              "      <th>Income</th>\n",
              "    </tr>\n",
              "  </thead>\n",
              "  <tbody>\n",
              "    <tr>\n",
              "      <th>1</th>\n",
              "      <td>20</td>\n",
              "      <td>M</td>\n",
              "      <td>Arts &amp; Design</td>\n",
              "      <td>&lt;50k</td>\n",
              "    </tr>\n",
              "    <tr>\n",
              "      <th>2</th>\n",
              "      <td>20</td>\n",
              "      <td>M</td>\n",
              "      <td>Arts &amp; Design</td>\n",
              "      <td>&lt;50k</td>\n",
              "    </tr>\n",
              "  </tbody>\n",
              "</table>\n",
              "</div>"
            ],
            "text/plain": [
              "   Age Sex            Job Income\n",
              "1   20   M  Arts & Design   <50k\n",
              "2   20   M  Arts & Design   <50k"
            ]
          },
          "metadata": {
            "tags": []
          },
          "execution_count": 17
        }
      ]
    },
    {
      "cell_type": "code",
      "metadata": {
        "id": "0jcVLaTy_yd6"
      },
      "source": [
        "#df.drop(1,inplace=True) #exclui uma linha especifica\n",
        "#ou\n",
        "df = df[False == df.duplicated(keep='first')] #exclui todos os repetidos e mantem somente o primeiro "
      ],
      "execution_count": null,
      "outputs": []
    },
    {
      "cell_type": "code",
      "metadata": {
        "id": "XCvWj64Z_5j7",
        "outputId": "17812ff8-3d56-404c-bbbd-05f9f699bea4",
        "colab": {
          "base_uri": "https://localhost:8080/",
          "height": 266
        }
      },
      "source": [
        "df"
      ],
      "execution_count": null,
      "outputs": [
        {
          "output_type": "execute_result",
          "data": {
            "text/html": [
              "<div>\n",
              "<style scoped>\n",
              "    .dataframe tbody tr th:only-of-type {\n",
              "        vertical-align: middle;\n",
              "    }\n",
              "\n",
              "    .dataframe tbody tr th {\n",
              "        vertical-align: top;\n",
              "    }\n",
              "\n",
              "    .dataframe thead th {\n",
              "        text-align: right;\n",
              "    }\n",
              "</style>\n",
              "<table border=\"1\" class=\"dataframe\">\n",
              "  <thead>\n",
              "    <tr style=\"text-align: right;\">\n",
              "      <th></th>\n",
              "      <th>Age</th>\n",
              "      <th>Sex</th>\n",
              "      <th>Job</th>\n",
              "      <th>Income</th>\n",
              "    </tr>\n",
              "  </thead>\n",
              "  <tbody>\n",
              "    <tr>\n",
              "      <th>1</th>\n",
              "      <td>20</td>\n",
              "      <td>M</td>\n",
              "      <td>Arts &amp; Design</td>\n",
              "      <td>&lt;50k</td>\n",
              "    </tr>\n",
              "    <tr>\n",
              "      <th>3</th>\n",
              "      <td>32</td>\n",
              "      <td>M</td>\n",
              "      <td>Business</td>\n",
              "      <td>&gt;50k</td>\n",
              "    </tr>\n",
              "    <tr>\n",
              "      <th>4</th>\n",
              "      <td>30</td>\n",
              "      <td>M</td>\n",
              "      <td>Business</td>\n",
              "      <td>&gt;50k</td>\n",
              "    </tr>\n",
              "    <tr>\n",
              "      <th>5</th>\n",
              "      <td>25</td>\n",
              "      <td>F</td>\n",
              "      <td>Healthcare</td>\n",
              "      <td>&gt;50k</td>\n",
              "    </tr>\n",
              "    <tr>\n",
              "      <th>6</th>\n",
              "      <td>35</td>\n",
              "      <td>F</td>\n",
              "      <td>Healthcare</td>\n",
              "      <td>&lt;50k</td>\n",
              "    </tr>\n",
              "    <tr>\n",
              "      <th>7</th>\n",
              "      <td>18</td>\n",
              "      <td>NaN</td>\n",
              "      <td>Food</td>\n",
              "      <td>&lt;50k</td>\n",
              "    </tr>\n",
              "    <tr>\n",
              "      <th>8</th>\n",
              "      <td>50</td>\n",
              "      <td>F</td>\n",
              "      <td>NaN</td>\n",
              "      <td>&gt;50k</td>\n",
              "    </tr>\n",
              "  </tbody>\n",
              "</table>\n",
              "</div>"
            ],
            "text/plain": [
              "   Age  Sex            Job Income\n",
              "1   20    M  Arts & Design   <50k\n",
              "3   32    M       Business   >50k\n",
              "4   30    M       Business   >50k\n",
              "5   25    F     Healthcare   >50k\n",
              "6   35    F     Healthcare   <50k\n",
              "7   18  NaN           Food   <50k\n",
              "8   50    F            NaN   >50k"
            ]
          },
          "metadata": {
            "tags": []
          },
          "execution_count": 21
        }
      ]
    },
    {
      "cell_type": "code",
      "metadata": {
        "id": "nFt_v7Dr_7Xy",
        "outputId": "84060a74-e367-48c5-bd1e-f27c299e536c",
        "colab": {
          "base_uri": "https://localhost:8080/",
          "height": 153
        }
      },
      "source": [
        "df.Age <=40 #filtra todas as idedaes menores de 40 anos"
      ],
      "execution_count": null,
      "outputs": [
        {
          "output_type": "execute_result",
          "data": {
            "text/plain": [
              "1     True\n",
              "3     True\n",
              "4     True\n",
              "5     True\n",
              "6     True\n",
              "7     True\n",
              "8    False\n",
              "Name: Age, dtype: bool"
            ]
          },
          "metadata": {
            "tags": []
          },
          "execution_count": 22
        }
      ]
    },
    {
      "cell_type": "code",
      "metadata": {
        "id": "7H0OLo2EBnlr",
        "outputId": "443bdfb0-a02c-4950-ae1d-c0f10e35bf68",
        "colab": {
          "base_uri": "https://localhost:8080/",
          "height": 153
        }
      },
      "source": [
        "df.Job != 'Food' #filtra todos os Jobs diferentes de Food"
      ],
      "execution_count": null,
      "outputs": [
        {
          "output_type": "execute_result",
          "data": {
            "text/plain": [
              "1     True\n",
              "3     True\n",
              "4     True\n",
              "5     True\n",
              "6     True\n",
              "7    False\n",
              "8     True\n",
              "Name: Job, dtype: bool"
            ]
          },
          "metadata": {
            "tags": []
          },
          "execution_count": 23
        }
      ]
    },
    {
      "cell_type": "code",
      "metadata": {
        "id": "UKfxZKiMCedd"
      },
      "source": [
        "df = df[df.Age <= 40] #aplicando filtro de Idade"
      ],
      "execution_count": null,
      "outputs": []
    },
    {
      "cell_type": "code",
      "metadata": {
        "id": "1iwYpWexDPx2"
      },
      "source": [
        "df = df[df.Job != \"Food\"] #aplicando filtro de Job"
      ],
      "execution_count": null,
      "outputs": []
    },
    {
      "cell_type": "code",
      "metadata": {
        "id": "drLTVKCjDWP2",
        "outputId": "362002c2-a6ce-46fb-8192-6109320f8971",
        "colab": {
          "base_uri": "https://localhost:8080/",
          "height": 204
        }
      },
      "source": [
        "df"
      ],
      "execution_count": null,
      "outputs": [
        {
          "output_type": "execute_result",
          "data": {
            "text/html": [
              "<div>\n",
              "<style scoped>\n",
              "    .dataframe tbody tr th:only-of-type {\n",
              "        vertical-align: middle;\n",
              "    }\n",
              "\n",
              "    .dataframe tbody tr th {\n",
              "        vertical-align: top;\n",
              "    }\n",
              "\n",
              "    .dataframe thead th {\n",
              "        text-align: right;\n",
              "    }\n",
              "</style>\n",
              "<table border=\"1\" class=\"dataframe\">\n",
              "  <thead>\n",
              "    <tr style=\"text-align: right;\">\n",
              "      <th></th>\n",
              "      <th>Age</th>\n",
              "      <th>Sex</th>\n",
              "      <th>Job</th>\n",
              "      <th>Income</th>\n",
              "    </tr>\n",
              "  </thead>\n",
              "  <tbody>\n",
              "    <tr>\n",
              "      <th>1</th>\n",
              "      <td>20</td>\n",
              "      <td>M</td>\n",
              "      <td>Arts &amp; Design</td>\n",
              "      <td>&lt;50k</td>\n",
              "    </tr>\n",
              "    <tr>\n",
              "      <th>3</th>\n",
              "      <td>32</td>\n",
              "      <td>M</td>\n",
              "      <td>Business</td>\n",
              "      <td>&gt;50k</td>\n",
              "    </tr>\n",
              "    <tr>\n",
              "      <th>4</th>\n",
              "      <td>30</td>\n",
              "      <td>M</td>\n",
              "      <td>Business</td>\n",
              "      <td>&gt;50k</td>\n",
              "    </tr>\n",
              "    <tr>\n",
              "      <th>5</th>\n",
              "      <td>25</td>\n",
              "      <td>F</td>\n",
              "      <td>Healthcare</td>\n",
              "      <td>&gt;50k</td>\n",
              "    </tr>\n",
              "    <tr>\n",
              "      <th>6</th>\n",
              "      <td>35</td>\n",
              "      <td>F</td>\n",
              "      <td>Healthcare</td>\n",
              "      <td>&lt;50k</td>\n",
              "    </tr>\n",
              "  </tbody>\n",
              "</table>\n",
              "</div>"
            ],
            "text/plain": [
              "   Age Sex            Job Income\n",
              "1   20   M  Arts & Design   <50k\n",
              "3   32   M       Business   >50k\n",
              "4   30   M       Business   >50k\n",
              "5   25   F     Healthcare   >50k\n",
              "6   35   F     Healthcare   <50k"
            ]
          },
          "metadata": {
            "tags": []
          },
          "execution_count": 27
        }
      ]
    },
    {
      "cell_type": "code",
      "metadata": {
        "id": "Q5OSeMlTDXgh"
      },
      "source": [
        ""
      ],
      "execution_count": null,
      "outputs": []
    }
  ]
}